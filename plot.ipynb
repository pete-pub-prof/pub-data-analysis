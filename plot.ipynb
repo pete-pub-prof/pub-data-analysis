{
 "cells": [
  {
   "cell_type": "code",
   "execution_count": null,
   "id": "b0127a54-b68f-4a8c-9e6a-a71304d2e213",
   "metadata": {},
   "outputs": [],
   "source": [
    "import numpy as np\n",
    "import pandas as pd\n",
    "import matplotlib.pyplot as plt\n",
    "plt.close(\"all\")"
   ]
  },
  {
   "cell_type": "code",
   "execution_count": null,
   "id": "dfb62354-b4b6-4e64-b5b5-b5c67d83a219",
   "metadata": {},
   "outputs": [],
   "source": [
    "np.random.seed(123456)"
   ]
  },
  {
   "cell_type": "code",
   "execution_count": null,
   "id": "f2c363d8-80cb-48d6-bc33-53e062e16d74",
   "metadata": {},
   "outputs": [],
   "source": [
    "ts = pd.Series(np.random.randn(1000), index=pd.date_range(\"1/1/2000\", periods=1000))"
   ]
  },
  {
   "cell_type": "markdown",
   "id": "aef08dca42dd0a9e",
   "metadata": {},
   "source": []
  },
  {
   "cell_type": "code",
   "execution_count": null,
   "id": "066a6609-1274-45a9-92cc-1a0196eec8ae",
   "metadata": {},
   "outputs": [],
   "source": [
    "ts = ts.cumsum()"
   ]
  },
  {
   "cell_type": "code",
   "execution_count": null,
   "id": "d0c3d4d1-2e2c-49ee-8a07-9127cad713d8",
   "metadata": {},
   "outputs": [],
   "source": [
    "ts.plot()"
   ]
  },
  {
   "cell_type": "code",
   "execution_count": null,
   "id": "0883b6a4-9431-4966-8e9f-0e40076f47f0",
   "metadata": {},
   "outputs": [],
   "source": [
    "ts?\n"
   ]
  },
  {
   "cell_type": "code",
   "execution_count": null,
   "id": "1e7c92b2-b153-4143-b5b9-91522feaa724",
   "metadata": {},
   "outputs": [],
   "source": [
    "ts.cumsum?\n"
   ]
  },
  {
   "cell_type": "code",
   "execution_count": null,
   "id": "b4b53e1a-f9f0-4231-bda2-651d163206e3",
   "metadata": {},
   "outputs": [],
   "source": []
  }
 ],
 "metadata": {
  "language_info": {
   "name": "python"
  }
 },
 "nbformat": 4,
 "nbformat_minor": 5
}
